{
 "cells": [
  {
   "cell_type": "markdown",
   "id": "1d3da85e",
   "metadata": {},
   "source": [
    "## Complementing a Strand of DNA\n",
    "\n",
    "https://rosalind.info/problems/revc/\n",
    "\n",
    "In DNA strings, symbols 'A' and 'T' are complements of each other, as are 'C' and 'G'.\n",
    "\n",
    "The reverse complement of a DNA string s is the string sc formed by reversing the symbols of s, then taking the complement of each symbol (e.g., the reverse complement of \"GTCA\" is \"TGAC\").\n",
    "\n",
    "**Given:** A DNA string s of length at most 1000 bp.\n",
    "\n",
    "**Return:** The reverse complement sc of s.\n",
    "\n",
    "**Sample Dataset**\n",
    "```AAAACCCGGT```\n",
    "\n",
    "**Sample Output**\n",
    "```ACCGGGTTTT```"
   ]
  },
  {
   "cell_type": "code",
   "execution_count": 14,
   "id": "13baaf7e",
   "metadata": {
    "scrolled": true
   },
   "outputs": [
    {
     "name": "stdout",
     "output_type": "stream",
     "text": [
      "\n",
      "GGGACGCTGGGCTTAACTAACGTCGGGCCGTCAGATCTGCTCCTGGTTGAGGCCTAAATCCATGCCTTATCGTGTACGTGAACTTCCATATTGCAGACATCACGTCATGAAAGGAGGGTCACTCGAGCTTGGAGCCTCCCCACTGGGGGGCACATGGGTACACCCGCGATCCGCTGGCCCTGTCGCACAAAAGACTCCCATAACTTGGTACCTGACTCTGTTGGAATCCCTTAACCTCTTACATGCTAATATGAGCCTCGCGCGTCACAAAGCGATAAAGGACGGTACTTGCTGGTATTACCAAGGAACAGCAGGCGGGTACGGGACCCCACATGAGTGAATCAGGTGTCCGGAATATCATATAACGATTTGCTATCCTAAGAAAGCACGGCATCGGATCACAAACATGCAGGGAACCTATAAGGTAGCCTTTGAGATGGCGAACTACTTTGAAAGCGGGGTCATGCATTTCTGAGTCTCGTCCTCGAACGACCGGGTGTACGGACTGCCACTGCGTGATATCGCTCCGATAGAGAAAACGAGCGACCATGAGCGATAGTGGCTGATCGGAGGGACGGCTAACACTTTATCCCAAACACCTGTGCCTAGATAAGGCTGTTTGATGCACTACTTACTTGTACGGATGGGTGCCTGAGGATCAATTGGTGACGGCGGAGTTAAGCCCTGTACAACGTGAGAGAATCACCGGAATCGTTTTACTTCATAAGCAACTGTCCTAGCGTCGATGAGCTATCGTGGTCGGTGTACTTGCGCTAAACATTTCTGCCGCTACTCTACGTGTATGTGGTTATCCGTCATCATG\n"
     ]
    }
   ],
   "source": [
    "with open('rosalind_revc.txt') as dna:\n",
    "    nucleotides = dna.read()\n",
    "    nucleotides = nucleotides.lower()\n",
    "\n",
    "char_to_replace = {'a':'T','g':'C','t':'A','c':'G'}\n",
    "\n",
    "for key, value in char_to_replace.items():\n",
    "    nucleotides = nucleotides.replace(key, value)\n",
    "\n",
    "print(nucleotides[::-1])"
   ]
  },
  {
   "cell_type": "code",
   "execution_count": 1,
   "id": "199fa9f0",
   "metadata": {},
   "outputs": [
    {
     "name": "stdout",
     "output_type": "stream",
     "text": [
      "Collecting biopython\n",
      "  Downloading biopython-1.79-cp38-cp38-macosx_10_9_x86_64.whl (2.3 MB)\n",
      "\u001b[K     |████████████████████████████████| 2.3 MB 5.0 MB/s eta 0:00:01\n",
      "\u001b[?25hRequirement already satisfied: numpy in /Users/cintia/opt/anaconda3/lib/python3.8/site-packages (from biopython) (1.20.3)\n",
      "Installing collected packages: biopython\n",
      "Successfully installed biopython-1.79\n",
      "Note: you may need to restart the kernel to use updated packages.\n"
     ]
    }
   ],
   "source": [
    "pip install biopython"
   ]
  },
  {
   "cell_type": "code",
   "execution_count": null,
   "id": "28568a14",
   "metadata": {},
   "outputs": [],
   "source": []
  },
  {
   "cell_type": "markdown",
   "id": "551df41b",
   "metadata": {},
   "source": [
    "## Computing GC Content\n",
    "\n",
    "https://rosalind.info/problems/gc/\n",
    "\n",
    "The GC-content of a DNA string is given by the percentage of symbols in the string that are 'C' or 'G'. For example, the GC-content of \"AGCTATAG\" is 37.5%. Note that the reverse complement of any DNA string has the same GC-content.\n",
    "\n",
    "DNA strings must be labeled when they are consolidated into a database. A commonly used method of string labeling is called FASTA format. In this format, the string is introduced by a line that begins with '>', followed by some labeling information. Subsequent lines contain the string itself; the first line to begin with '>' indicates the label of the next string.\n",
    "\n",
    "In Rosalind's implementation, a string in FASTA format will be labeled by the ID \"Rosalind_xxxx\", where \"xxxx\" denotes a four-digit code between 0000 and 9999.\n",
    "\n",
    "**Given:** At most 10 DNA strings in FASTA format (of length at most 1 kbp each).\n",
    "\n",
    "**Return:** The ID of the string having the highest GC-content, followed by the GC-content of that string. Rosalind allows for a default error of 0.001 in all decimal answers unless otherwise stated; please see the note on absolute error below.\n",
    "\n",
    "**Sample Dataset**\n",
    "\n",
    "\\>Rosalind_6404\n",
    "\n",
    "CCTGCGGAAGATCGGCACTAGAATAGCCAGAACCGTTTCTCTGAGGCTTCCGGCCTTCCC\n",
    "TCCCACTAATAATTCTGAGG\n",
    "\n",
    "\\>Rosalind_5959\n",
    "\n",
    "CCATCGGTAGCGCATCCTTAGTCCAATTAAGTCCCTATCCAGGCGCTCCGCCGAAGGTCT\n",
    "ATATCCATTTGTCAGCAGACACGC\n",
    "\n",
    "\\>Rosalind_0808\n",
    "\n",
    "CCACCCTCGTGGTATGGCTAGGCATTCAGGAACCGGAGAACGCTTCAGACCAGCCCGGAC\n",
    "TGGGAACCTGCGGGCAGTAGGTGGAAT\n",
    "\n",
    "**Sample Output**\n",
    "```Rosalind_0808\n",
    "60.919540```"
   ]
  },
  {
   "cell_type": "code",
   "execution_count": 30,
   "id": "621b0ef4",
   "metadata": {},
   "outputs": [
    {
     "name": "stdout",
     "output_type": "stream",
     "text": [
      "Rosalind_2060\n",
      "52.46406570841889\n"
     ]
    }
   ],
   "source": [
    "from Bio import SeqIO\n",
    "from Bio.SeqUtils import GC\n",
    "\n",
    "GCcont = 0\n",
    "GCname = \"\"\n",
    "\n",
    "file = open(\"rosalind_gc.txt\", \"r\")\n",
    "\n",
    "for record in SeqIO.parse(file, \"fasta\"):\n",
    "    if GCcont < GC(record.seq):\n",
    "        GCcont = GC(record.seq)\n",
    "        GCname = record.id\n",
    "        \n",
    "print(GCname)\n",
    "print(GCcont)"
   ]
  },
  {
   "cell_type": "code",
   "execution_count": null,
   "id": "a83d896f",
   "metadata": {},
   "outputs": [],
   "source": []
  }
 ],
 "metadata": {
  "kernelspec": {
   "display_name": "Python 3 (ipykernel)",
   "language": "python",
   "name": "python3"
  },
  "language_info": {
   "codemirror_mode": {
    "name": "ipython",
    "version": 3
   },
   "file_extension": ".py",
   "mimetype": "text/x-python",
   "name": "python",
   "nbconvert_exporter": "python",
   "pygments_lexer": "ipython3",
   "version": "3.8.12"
  },
  "vscode": {
   "interpreter": {
    "hash": "2c950d60ca0a0a197feae76eae91e1aeacfeb8ce96b01ba4485bcfbab2a28127"
   }
  }
 },
 "nbformat": 4,
 "nbformat_minor": 5
}
