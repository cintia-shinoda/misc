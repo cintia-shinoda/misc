{
 "cells": [
  {
   "cell_type": "markdown",
   "id": "1d3da85e",
   "metadata": {},
   "source": [
    "## Complementing a Strand of DNA\n",
    "\n",
    "https://rosalind.info/problems/revc/\n",
    "\n",
    "In DNA strings, symbols 'A' and 'T' are complements of each other, as are 'C' and 'G'.\n",
    "\n",
    "The reverse complement of a DNA string s is the string sc formed by reversing the symbols of s, then taking the complement of each symbol (e.g., the reverse complement of \"GTCA\" is \"TGAC\").\n",
    "\n",
    "**Given:** A DNA string s of length at most 1000 bp.\n",
    "\n",
    "**Return:** The reverse complement sc of s.\n",
    "\n",
    "**Sample Dataset**\n",
    "```AAAACCCGGT```\n",
    "\n",
    "**Sample Output**\n",
    "```ACCGGGTTTT```"
   ]
  },
  {
   "cell_type": "code",
   "execution_count": 10,
   "id": "13baaf7e",
   "metadata": {
    "scrolled": true
   },
   "outputs": [
    {
     "name": "stdout",
     "output_type": "stream",
     "text": [
      "\n",
      "CACCAAAAAAACCAAACAACAAACCCCCAACAACACAAACCACAACACACACAAAAAAACAACACCACCAAAAACCCCACCCACACCCAACAACCACCCCAAACCACACCCCACACCCCCCCCCCCCCAAACAAAACACACACCCAACCACACCACACCAACAAAACCACACCCCACCCAACCCCCACCCAACACCAACCCCAAACCACCAACACCCCAACCCAACACCACAAACACCAACCCCCCACCAACAACCACCAACCAAACACCACCCCAAAAACCCCACCACCCACCAAACCCCAAAAACAACCCCCACAACCCCCACACAACCCAACACCCCACAAAAACACCACCAAACAAAAAACAACCAACCACCAACACAAAAAACCACACCCCCCCCACCCCAACAAACAAACCACAAAAAAACCACCCAAACAACACACCCAACCCACAAAACCCAAAACAACCACAACCAAACAACCCCCCCACCCAACAAACACCCCCAACAACCACAACACCCAACCACACCACCCCCCAAACCAAACAACCAAAACCACACAACACACAACCACCACAAACCCCACCCCCCACACCCACAAAAACCCCAAACACACCAACAACAACACCAAACAAAACCACACCCCAACACACACCAACCAACCCCACCCACACCCACAAACAAACACAACAACACACAAACCAACCAAAAAAAAAAAACCCCCCCCCCCCCCCAACCCCACCCAAACCCACAAAACACAAAAAACAACCAAACCAACAACAAACCCCCCACCACCACAAACACACACAAAACCCAACCCACCACAACAAAACCAAACCCAACCAACCCCACAACCACCACCACCCAACCCACCCCCAACCACAACACCCACCCAAAACAACCACCCACAACCAACACCCCACAACAACCACAACAAACCAAAAAACA\n"
     ]
    }
   ],
   "source": [
    "with open('rosalind_revc.txt') as dna:\n",
    "    nucleotides = dna.read()\n",
    "    print(nucleotides.replace('A','T').replace('T','A').replace('C','G')\n",
    ".replace('G','C')[::-1])"
   ]
  },
  {
   "cell_type": "markdown",
   "id": "551df41b",
   "metadata": {},
   "source": [
    "## Computing GC Content\n",
    "\n",
    "https://rosalind.info/problems/gc/\n",
    "\n",
    "The GC-content of a DNA string is given by the percentage of symbols in the string that are 'C' or 'G'. For example, the GC-content of \"AGCTATAG\" is 37.5%. Note that the reverse complement of any DNA string has the same GC-content.\n",
    "\n",
    "DNA strings must be labeled when they are consolidated into a database. A commonly used method of string labeling is called FASTA format. In this format, the string is introduced by a line that begins with '>', followed by some labeling information. Subsequent lines contain the string itself; the first line to begin with '>' indicates the label of the next string.\n",
    "\n",
    "In Rosalind's implementation, a string in FASTA format will be labeled by the ID \"Rosalind_xxxx\", where \"xxxx\" denotes a four-digit code between 0000 and 9999.\n",
    "\n",
    "**Given:** At most 10 DNA strings in FASTA format (of length at most 1 kbp each).\n",
    "\n",
    "**Return:** The ID of the string having the highest GC-content, followed by the GC-content of that string. Rosalind allows for a default error of 0.001 in all decimal answers unless otherwise stated; please see the note on absolute error below.\n",
    "\n",
    "**Sample Dataset**\n",
    "\n",
    "\\>Rosalind_6404\n",
    "\n",
    "CCTGCGGAAGATCGGCACTAGAATAGCCAGAACCGTTTCTCTGAGGCTTCCGGCCTTCCC\n",
    "TCCCACTAATAATTCTGAGG\n",
    "\n",
    "\\>Rosalind_5959\n",
    "\n",
    "CCATCGGTAGCGCATCCTTAGTCCAATTAAGTCCCTATCCAGGCGCTCCGCCGAAGGTCT\n",
    "ATATCCATTTGTCAGCAGACACGC\n",
    "\n",
    "\\>Rosalind_0808\n",
    "\n",
    "CCACCCTCGTGGTATGGCTAGGCATTCAGGAACCGGAGAACGCTTCAGACCAGCCCGGAC\n",
    "TGGGAACCTGCGGGCAGTAGGTGGAAT\n",
    "\n",
    "**Sample Output**\n",
    "```Rosalind_0808\n",
    "60.919540```"
   ]
  },
  {
   "cell_type": "code",
   "execution_count": null,
   "id": "621b0ef4",
   "metadata": {},
   "outputs": [],
   "source": []
  }
 ],
 "metadata": {
  "kernelspec": {
   "display_name": "Python 3 (ipykernel)",
   "language": "python",
   "name": "python3"
  },
  "language_info": {
   "codemirror_mode": {
    "name": "ipython",
    "version": 3
   },
   "file_extension": ".py",
   "mimetype": "text/x-python",
   "name": "python",
   "nbconvert_exporter": "python",
   "pygments_lexer": "ipython3",
   "version": "3.8.12"
  }
 },
 "nbformat": 4,
 "nbformat_minor": 5
}
